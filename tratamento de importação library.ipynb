{
 "cells": [
  {
   "cell_type": "code",
   "execution_count": 3,
   "id": "0238776a",
   "metadata": {},
   "outputs": [
    {
     "name": "stdout",
     "output_type": "stream",
     "text": [
      "Successfully imported Spark functools\n",
      "Successfully imported Spark sys\n",
      "Successfully imported Spark SparkContext, since\n",
      "Successfully imported Spark pyspark.sql.column\n",
      "Successfully imported Spark pyspark.rdd\n",
      "Successfully imported Spark pyspark.sql.types\n"
     ]
    }
   ],
   "source": [
    "try:\n",
    "    import functools\n",
    "    print (\"Successfully imported Spark functools\")\n",
    "\n",
    "except ImportError as e:\n",
    "    print (\"Can not import Spark functools\", e)\n",
    "    sys.exit(1)\n",
    "    \n",
    "try:\n",
    "    import sys\n",
    "    print (\"Successfully imported Spark sys\")\n",
    "\n",
    "except ImportError as e:\n",
    "    print (\"Can not import Spark sys\", e)\n",
    "    sys.exit(1)\n",
    "    \n",
    "try:\n",
    "    from pyspark import SparkContext, since\n",
    "    print (\"Successfully imported Spark SparkContext, since\")\n",
    "\n",
    "except ImportError as e:\n",
    "    print (\"Can not import Spark SparkContext, since\", e)\n",
    "    sys.exit(1)\n",
    "    \n",
    "try:\n",
    "    from pyspark.sql.column import Column, _to_java_column, _to_seq\n",
    "    print (\"Successfully imported Spark pyspark.sql.column\")\n",
    "\n",
    "except ImportError as e:\n",
    "    print (\"Can not import Spark pyspark.sql.column\", e)\n",
    "    sys.exit(1)\n",
    "\n",
    "try:\n",
    "    from pyspark.rdd import _prepare_for_python_RDD, PythonEvalType\n",
    "    #, ignore_unicode_prefix\n",
    "    print (\"Successfully imported Spark pyspark.rdd\")\n",
    "\n",
    "except ImportError as e:\n",
    "    print (\"Can not import Spark Modules\", e)\n",
    "    sys.exit(1)\n",
    "        \n",
    "try:\n",
    "    from pyspark.sql.types import StringType, DataType, StructType, _parse_datatype_string\n",
    "    #to_arrow_type, to_arrow_schema\n",
    "\n",
    "    print (\"Successfully imported Spark pyspark.sql.types\")\n",
    "\n",
    "except ImportError as e:\n",
    "    print (\"Can not import Spark Modules\", e)\n",
    "    sys.exit(1)\n",
    "\n",
    "\n"
   ]
  },
  {
   "cell_type": "code",
   "execution_count": null,
   "id": "846e35ee",
   "metadata": {},
   "outputs": [],
   "source": []
  }
 ],
 "metadata": {
  "kernelspec": {
   "display_name": "Python 3 (ipykernel)",
   "language": "python",
   "name": "python3"
  },
  "language_info": {
   "codemirror_mode": {
    "name": "ipython",
    "version": 3
   },
   "file_extension": ".py",
   "mimetype": "text/x-python",
   "name": "python",
   "nbconvert_exporter": "python",
   "pygments_lexer": "ipython3",
   "version": "3.10.0"
  }
 },
 "nbformat": 4,
 "nbformat_minor": 5
}
